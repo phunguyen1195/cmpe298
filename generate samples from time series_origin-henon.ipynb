{
 "cells": [
  {
   "cell_type": "raw",
   "id": "623e46e1",
   "metadata": {},
   "source": [
    "function RungeKutta(dyn::Model, f::Function, dt::ScalarType, x₀::ArrayType)\n",
    "\n",
    "k₁ = f( x₀        ,  dyn)*dt\n",
    "k₂ = f( x₀ + 0.5k₁,  dyn)*dt\n",
    "k₃ = f( x₀ + 0.5k₂,  dyn)*dt\n",
    "k₄ = f( x₀ +    k₃,  dyn)*dt\n",
    "\n",
    "x  = x₀ + (k₁+2k₂+2k₃+k₄)/6\n",
    "\n",
    "end\n",
    "\n",
    "// dyn::Model keeps the parameters of a dynamical system, e.g., mass, length, etc. \n",
    "//f::Function: implements equation of motion, x[t+1] = f(x[t]).\n",
    "//dt: integration step. e.g., dt = 0.01sec. In discrete time, (Henon), dt = 1\n",
    "//x_0: initial conditions\n",
    "\n",
    "to generate trajectory we integrate for T steps:\n",
    "\n",
    "function ∫(dyn::Model, f::Function, dt::ScalarType, x₀::ArrayType, T::Int)\n",
    "\n",
    "X = Array(size(x₀, 1), T)\n",
    "X[:, 1] = x₀\n",
    "for i in 2:T\n",
    "X[:, i] = RungeKutta(dyn, f, dt, X[:, i-1]) // defined above\n",
    "end\n",
    "return X // this will return a trajectory 2xT for Henon and 3xT for Lorenz.\n",
    "end"
   ]
  },
  {
   "cell_type": "code",
   "execution_count": 1,
   "id": "31874f95",
   "metadata": {},
   "outputs": [],
   "source": [
    "import numpy as np\n",
    "\n",
    "dyn_lorenz = {\"sigma\":16.0, \"R\":45.92, \"b\": 4.0}\n",
    "dyn_henon = {\"a\": 1.4, \"b\": 0.3}\n",
    "x0_henon = np.array([0.0, 0.0])\n",
    "x0 = np.array([10.0, 1.0, 0.0])\n",
    "\n",
    "def lorenz (x0, dyn):\n",
    "    sigma = dyn['sigma']\n",
    "    R = dyn['R']\n",
    "    b = dyn['b']\n",
    "    x = x0[0]\n",
    "    y = x0[1]\n",
    "    z = x0[2]\n",
    "    return np.array([sigma * (y - x), x * (R - z) - y, x * y - b * z])\n",
    "\n",
    "def Henon (x0, dyn):\n",
    "    a = dyn['a']\n",
    "    b = dyn['b']\n",
    "    x = x0[0]\n",
    "    y = x0[1]\n",
    "    return np.array([1 - a * x ** 2 + y, b * x])\n",
    "\n",
    "def RungeKutta (dyn, f, dt, x0):\n",
    "    k1 = f(x0, dyn)*dt #[x,y,z]*0.1 example\n",
    "    k2 = f(x0+0.5*k1,dyn)*dt\n",
    "    k3 = f(x0 + 0.5*k2, dyn)*dt\n",
    "    k4 = f(x0 + k3, dyn)*dt\n",
    "    \n",
    "    x = x0 + (k1 + 2*k2 + 2*k3 + k4)/6\n",
    "    return x\n",
    "\n",
    "def f_t (dyn, f, dt, x0, T):\n",
    "    x = np.empty(shape=(len(x0),T))\n",
    "    print(x.shape)      \n",
    "    for i in range(1,T):\n",
    "        x[:, i] = RungeKutta(dyn, f, dt, x[:, i-1]) \n",
    "    return x\n",
    "\n",
    "\n"
   ]
  },
  {
   "cell_type": "code",
   "execution_count": 179,
   "id": "fc1b4f16",
   "metadata": {},
   "outputs": [
    {
     "data": {
      "image/png": "[encoded data removed]",
      "text/plain": [
       "<Figure size 432x288 with 1 Axes>"
      ]
     },
     "metadata": {
      "needs_background": "light"
     },
     "output_type": "display_data"
    }
   ],
   "source": [
    "import numpy as np \n",
    "import matplotlib.pyplot as plt \n",
    "\n",
    "def henon_model(x, y, a=1.4, b=0.3):\n",
    "\n",
    "    x_next = 1 - a * x ** 2 + y\n",
    "    y_next = b * x\n",
    "    return x_next, y_next\n",
    "\n",
    "steps = 128\n",
    "x_henon = np.zeros(steps + 1)\n",
    "y_henon = np.zeros(steps + 1)\n",
    "\n",
    "\n",
    "x_henon[0], y_henon[0] = 0, 0\n",
    "\n",
    "for i in range(steps):\n",
    "    x_next, y_next = henon_model(x_henon[i], y_henon[i])\n",
    "    x_henon[i+1] = x_next\n",
    "    y_henon[i+1] = y_next\n",
    "    \n",
    "\n",
    "plt.plot(x_henon, y_henon, '^', alpha = 0.8, markersize=0.3)\n",
    "plt.title('Henon Attractor')\n",
    "plt.savefig('Henon_Attractor.png')\n",
    "plt.show()\n",
    "\n",
    "plt.close()"
   ]
  },
  {
   "cell_type": "code",
   "execution_count": 205,
   "id": "8235ae10",
   "metadata": {},
   "outputs": [],
   "source": [
    "IND = 0\n",
    "SUM = 0.0\n",
    "ITS = 0\n",
    "IND2 = 0\n",
    "\n",
    "DI = 1.e38 #any large number\n",
    "\n",
    "NPT = len(x_henon)\n",
    "DIM = 2 #is dimension 12 ?\n",
    "dt = 1\n",
    "TAU_physical = 1 #integer\n",
    "TAU = int(TAU_physical/dt)\n",
    "SCALMX = 5\n",
    "SCALMN = 0.5\n",
    "EVOLV_physical = 2 #time from t0 to t1\n",
    "EVOLV = int(EVOLV_physical/dt) #integer"
   ]
  },
  {
   "cell_type": "code",
   "execution_count": 206,
   "id": "2c28183f",
   "metadata": {},
   "outputs": [
    {
     "data": {
      "text/plain": [
       "2"
      ]
     },
     "execution_count": 206,
     "metadata": {},
     "output_type": "execute_result"
    }
   ],
   "source": [
    "EVOLV"
   ]
  },
  {
   "cell_type": "code",
   "execution_count": 207,
   "id": "d72da644",
   "metadata": {},
   "outputs": [],
   "source": [
    "NPT = NPT - DIM*TAU - EVOLV"
   ]
  },
  {
   "cell_type": "code",
   "execution_count": 208,
   "id": "4ee65a99",
   "metadata": {},
   "outputs": [
    {
     "data": {
      "text/plain": [
       "125"
      ]
     },
     "execution_count": 208,
     "metadata": {},
     "output_type": "execute_result"
    }
   ],
   "source": [
    "NPT"
   ]
  },
  {
   "cell_type": "code",
   "execution_count": 209,
   "id": "f30e5c3c",
   "metadata": {},
   "outputs": [],
   "source": [
    "Z = np.empty([int(NPT),DIM])"
   ]
  },
  {
   "cell_type": "code",
   "execution_count": 210,
   "id": "58d56161",
   "metadata": {},
   "outputs": [],
   "source": [
    "#Z(I,J)=JTH COMPONENT OF ITH RECONSTRUCTED ATTRACTOR POINT\n",
    "#Z(I,J) = X(I+(J-1)*TAU)\n",
    "#tau = k*dt\n",
    "for i in range(int(NPT)):\n",
    "    for j in range(DIM):\n",
    "        #Z[i][j-1] = x[0][i + (j-1)*TAU]\n",
    "        #Z[i][j] = x[0][int(int((i*dt + (j-1)*dt*TAU))/dt)]\n",
    "        Z[i][j] = x_henon[i + (j-1)*TAU]"
   ]
  },
  {
   "cell_type": "code",
   "execution_count": 211,
   "id": "ada65d0c",
   "metadata": {},
   "outputs": [],
   "source": [
    "#find nearest neighbor to the first data point\n",
    "for i in range(1, int(NPT)):\n",
    "    D = 0.0\n",
    "    #iterate through the array, compare first point with the rest\n",
    "    D = np.linalg.norm(Z[IND] - Z[i])\n",
    "    #print(D)\n",
    "    if ((D<DI) and (D>=SCALMN)):\n",
    "        DI = D\n",
    "        IND2 = i"
   ]
  },
  {
   "cell_type": "code",
   "execution_count": 212,
   "id": "a791e7d5",
   "metadata": {},
   "outputs": [
    {
     "data": {
      "text/plain": [
       "0.5017896364594139"
      ]
     },
     "execution_count": 212,
     "metadata": {},
     "output_type": "execute_result"
    }
   ],
   "source": [
    "DI"
   ]
  },
  {
   "cell_type": "code",
   "execution_count": 213,
   "id": "33a97ab5",
   "metadata": {
    "scrolled": true
   },
   "outputs": [
    {
     "name": "stdout",
     "output_type": "stream",
     "text": [
      "IND, IND2, NPT 2 117 125\n",
      "IND, IND2, NPT 4 92 125\n",
      "IND, IND2, NPT 6 94 125\n",
      "IND, IND2, NPT 8 96 125\n",
      "IND, IND2, NPT 10 98 125\n",
      "IND, IND2, NPT 12 100 125\n",
      "IND, IND2, NPT 14 47 125\n",
      "IND, IND2, NPT 16 49 125\n",
      "IND, IND2, NPT 18 51 125\n",
      "IND, IND2, NPT 20 53 125\n",
      "IND, IND2, NPT 22 55 125\n",
      "IND, IND2, NPT 24 9 125\n",
      "IND, IND2, NPT 26 11 125\n",
      "IND, IND2, NPT 28 0 125\n",
      "IND, IND2, NPT 30 2 125\n",
      "IND, IND2, NPT 32 4 125\n",
      "IND, IND2, NPT 34 6 125\n",
      "IND, IND2, NPT 36 8 125\n",
      "IND, IND2, NPT 38 10 125\n",
      "IND, IND2, NPT 40 12 125\n",
      "IND, IND2, NPT 42 14 125\n",
      "IND, IND2, NPT 44 16 125\n",
      "IND, IND2, NPT 46 18 125\n",
      "IND, IND2, NPT 48 20 125\n",
      "IND, IND2, NPT 50 22 125\n",
      "IND, IND2, NPT 52 24 125\n",
      "IND, IND2, NPT 54 29 125\n",
      "IND, IND2, NPT 56 31 125\n",
      "IND, IND2, NPT 58 33 125\n",
      "IND, IND2, NPT 60 35 125\n",
      "IND, IND2, NPT 62 37 125\n",
      "IND, IND2, NPT 64 124 125\n"
     ]
    }
   ],
   "source": [
    "SUM_list = []\n",
    "while ((IND + EVOLV < int(NPT)) and (IND2 + EVOLV < int(NPT))): #40\n",
    "    PT1 = Z[IND+EVOLV] #would this be the dimesion\n",
    "    PT2 = Z[IND2+EVOLV]\n",
    "    DF = np.linalg.norm(PT1 - PT2)\n",
    "    ITS = ITS + 1\n",
    "    SUM_list.append(SUM)\n",
    "    SUM = SUM + np.log2(DF/DI)/EVOLV_physical\n",
    "    ZLYAP = SUM/float(ITS)\n",
    "    INDOLD = IND2\n",
    "    ZMULT = 1.0\n",
    "    ANGLMX = 0.3\n",
    "    #THMIN = 3.14\n",
    "    while (True): #70\n",
    "        #print(\"here\")\n",
    "        THMIN = 3.14\n",
    "\n",
    "        for i in range (int(NPT)): #100\n",
    "            III = int(np.absolute(i-(IND+EVOLV)))\n",
    "            if (III >= 10):\n",
    "                #find angular change old to new vector\n",
    "                DNEW = 0.0\n",
    "                DNEW = np.linalg.norm(PT1 - Z[i])\n",
    "                if ((DNEW <= ZMULT*SCALMX) and (DNEW >= SCALMN)):\n",
    "                    DOT = 0.0\n",
    "                    DOT = np.dot((PT1 - Z[i]),(PT1 - PT2))\n",
    "                    CTH = np.absolute(DOT/(DNEW*DF))\n",
    "                    #print(CTH)\n",
    "                    if (CTH > 1.0):\n",
    "                        CTH = 1.0\n",
    "                    TH = np.arccos(CTH)\n",
    "                    #save smallest angular change so far\n",
    "                    if TH <= THMIN:\n",
    "                        THMIN = TH\n",
    "                        DII = DNEW\n",
    "                        IND2 = i\n",
    "        if (THMIN < ANGLMX):\n",
    "            #print (\"here\")\n",
    "            break\n",
    "        # look at longer distance if cant find replacement\n",
    "        ZMULT = ZMULT + 1\n",
    "        if (ZMULT > 5):\n",
    "            #no replacement at 5*scale, double search angle, reset distance\n",
    "            ZMULT = 1.0\n",
    "            ANGLMX = 2.0*ANGLMX\n",
    "        if (ANGLMX >= 3.14):\n",
    "            IND2 = INDOLD + EVOLV\n",
    "            DII = DF\n",
    "    IND = IND + EVOLV\n",
    "    if (IND > NPT):\n",
    "        print('here')\n",
    "        break\n",
    "    print (\"IND, IND2, NPT\", IND, IND2, NPT)\n",
    "    DI = DII"
   ]
  },
  {
   "cell_type": "code",
   "execution_count": 215,
   "id": "21c1ccf2",
   "metadata": {},
   "outputs": [
    {
     "data": {
      "image/png": "[encoded data removed]",
      "text/plain": [
       "<Figure size 432x288 with 1 Axes>"
      ]
     },
     "metadata": {
      "needs_background": "light"
     },
     "output_type": "display_data"
    }
   ],
   "source": [
    "import matplotlib.pyplot as plt\n",
    "\n",
    "plt.plot(SUM_list)\n",
    "plt.scatter(range(len(SUM_list)),SUM_list)\n",
    "plt.title('Accumulated lyapunov exponents')\n",
    "plt.ylabel('lyapunov exponents')\n",
    "plt.xlabel('iteration')\n",
    "plt.savefig('henon_tau1.png')"
   ]
  },
  {
   "cell_type": "code",
   "execution_count": null,
   "id": "dea4231e",
   "metadata": {},
   "outputs": [],
   "source": [
    "1/12\n",
    "[0.0,\n",
    " -0.43499174023252746,\n",
    " 0.587371061904862,\n",
    " 0.9668512934105051,\n",
    " 1.9817830893799147,\n",
    " 2.835795689693932]"
   ]
  },
  {
   "cell_type": "code",
   "execution_count": null,
   "id": "512d8c76",
   "metadata": {},
   "outputs": [],
   "source": []
  }
 ],
 "metadata": {
  "kernelspec": {
   "display_name": "Python (cmpe258)",
   "language": "python",
   "name": "cmpe258"
  },
  "language_info": {
   "codemirror_mode": {
    "name": "ipython",
    "version": 3
   },
   "file_extension": ".py",
   "mimetype": "text/x-python",
   "name": "python",
   "nbconvert_exporter": "python",
   "pygments_lexer": "ipython3",
   "version": "3.9.7"
  }
 },
 "nbformat": 4,
 "nbformat_minor": 5
}
